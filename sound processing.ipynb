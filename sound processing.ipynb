{
 "cells": [
  {
   "cell_type": "code",
   "execution_count": 1,
   "metadata": {},
   "outputs": [],
   "source": [
    "%matplotlib inline\n",
    "import os\n",
    "import math\n",
    "import shutil\n",
    "import tensorflow as tf\n",
    "import pandas as pd\n",
    "from matplotlib import pyplot as plt\n",
    "import numpy as np\n",
    "\n",
    "import IPython.display as ipd\n",
    "\n",
    "import librosa"
   ]
  },
  {
   "cell_type": "code",
   "execution_count": 2,
   "metadata": {},
   "outputs": [],
   "source": [
    "# check permissions\n",
    "# read\n",
    "DATA_FOLDER = '/projects/data/data_v_7_stc'\n",
    "METAFOLDER = os.path.join(DATA_FOLDER, 'meta')\n",
    "METAFILE = os.path.join(METAFOLDER, 'meta.txt')\n",
    "AUDIO_FOLDER = os.path.join(DATA_FOLDER, 'audio')\n",
    "\n",
    "# write\n",
    "REFINED_FOLDER = os.path.join(DATA_FOLDER, 'refined', '')\n",
    "REFINED_META = os.path.join(METAFOLDER, 'refined_meta.txt')"
   ]
  },
  {
   "cell_type": "code",
   "execution_count": 29,
   "metadata": {},
   "outputs": [],
   "source": [
    "df = pd.read_csv(METAFILE, sep='\\t', header=None)\n",
    "df.columns = ['file', 'unk1', 'unk2', 'duration', 'type']"
   ]
  },
  {
   "cell_type": "code",
   "execution_count": 30,
   "metadata": {},
   "outputs": [
    {
     "data": {
      "text/html": [
       "<div>\n",
       "<style scoped>\n",
       "    .dataframe tbody tr th:only-of-type {\n",
       "        vertical-align: middle;\n",
       "    }\n",
       "\n",
       "    .dataframe tbody tr th {\n",
       "        vertical-align: top;\n",
       "    }\n",
       "\n",
       "    .dataframe thead th {\n",
       "        text-align: right;\n",
       "    }\n",
       "</style>\n",
       "<table border=\"1\" class=\"dataframe\">\n",
       "  <thead>\n",
       "    <tr style=\"text-align: right;\">\n",
       "      <th></th>\n",
       "      <th>file</th>\n",
       "      <th>unk1</th>\n",
       "      <th>unk2</th>\n",
       "      <th>duration</th>\n",
       "      <th>type</th>\n",
       "    </tr>\n",
       "  </thead>\n",
       "  <tbody>\n",
       "    <tr>\n",
       "      <th>1840</th>\n",
       "      <td>bg_0136_time_stretch_1.wav</td>\n",
       "      <td>office</td>\n",
       "      <td>0</td>\n",
       "      <td>2.504308</td>\n",
       "      <td>bags</td>\n",
       "    </tr>\n",
       "    <tr>\n",
       "      <th>6696</th>\n",
       "      <td>tt_k_0009_time_stretch_2.wav</td>\n",
       "      <td>office</td>\n",
       "      <td>0</td>\n",
       "      <td>9.711519</td>\n",
       "      <td>keyboard</td>\n",
       "    </tr>\n",
       "    <tr>\n",
       "      <th>221</th>\n",
       "      <td>background_0015_time_stretch_6.wav</td>\n",
       "      <td>office</td>\n",
       "      <td>0</td>\n",
       "      <td>6.384444</td>\n",
       "      <td>background</td>\n",
       "    </tr>\n",
       "    <tr>\n",
       "      <th>3694</th>\n",
       "      <td>d_0023_time_stretch_1.wav</td>\n",
       "      <td>office</td>\n",
       "      <td>0</td>\n",
       "      <td>1.147120</td>\n",
       "      <td>door</td>\n",
       "    </tr>\n",
       "    <tr>\n",
       "      <th>1687</th>\n",
       "      <td>bg_0098_time_stretch_0.wav</td>\n",
       "      <td>office</td>\n",
       "      <td>0</td>\n",
       "      <td>1.792925</td>\n",
       "      <td>bags</td>\n",
       "    </tr>\n",
       "  </tbody>\n",
       "</table>\n",
       "</div>"
      ],
      "text/plain": [
       "                                    file    unk1  unk2  duration        type\n",
       "1840          bg_0136_time_stretch_1.wav  office     0  2.504308        bags\n",
       "6696        tt_k_0009_time_stretch_2.wav  office     0  9.711519    keyboard\n",
       "221   background_0015_time_stretch_6.wav  office     0  6.384444  background\n",
       "3694           d_0023_time_stretch_1.wav  office     0  1.147120        door\n",
       "1687          bg_0098_time_stretch_0.wav  office     0  1.792925        bags"
      ]
     },
     "execution_count": 30,
     "metadata": {},
     "output_type": "execute_result"
    }
   ],
   "source": [
    "df.sample(5)"
   ]
  },
  {
   "cell_type": "code",
   "execution_count": 31,
   "metadata": {},
   "outputs": [],
   "source": [
    "uniqs = df['type'].unique()"
   ]
  },
  {
   "cell_type": "markdown",
   "metadata": {},
   "source": [
    "# Find file count of each type"
   ]
  },
  {
   "cell_type": "code",
   "execution_count": 32,
   "metadata": {},
   "outputs": [],
   "source": [
    "rows_count = lambda df, t: len(df.loc[df['type'] == t].index)\n",
    "type_freqs = {name: rows_count(df, name) for name in uniqs}"
   ]
  },
  {
   "cell_type": "code",
   "execution_count": 33,
   "metadata": {},
   "outputs": [
    {
     "data": {
      "image/png": "[encoded data removed]",
      "text/plain": [
       "<Figure size 432x288 with 1 Axes>"
      ]
     },
     "metadata": {
      "needs_background": "light"
     },
     "output_type": "display_data"
    }
   ],
   "source": [
    "plt.bar(range(len(type_freqs)), list(type_freqs.values()), align='center', width=0.6)\n",
    "plt.xticks(range(len(type_freqs)), list(type_freqs.keys()))\n",
    "plt.setp(plt.gca().get_xticklabels(), rotation=30, horizontalalignment='right') \n",
    " \n",
    "plt.show()"
   ]
  },
  {
   "cell_type": "markdown",
   "metadata": {},
   "source": [
    "# Find average durations"
   ]
  },
  {
   "cell_type": "code",
   "execution_count": 34,
   "metadata": {},
   "outputs": [],
   "source": [
    "avg_duration = lambda df, t: df.loc[df['type'] == t]['duration'].mean()\n",
    "type_avg_durations = {name: avg_duration(df, name) for name in uniqs}"
   ]
  },
  {
   "cell_type": "code",
   "execution_count": 35,
   "metadata": {},
   "outputs": [
    {
     "data": {
      "image/png": "[encoded data removed]",
      "text/plain": [
       "<Figure size 432x288 with 1 Axes>"
      ]
     },
     "metadata": {
      "needs_background": "light"
     },
     "output_type": "display_data"
    }
   ],
   "source": [
    "plt.bar(range(len(type_avg_durations)), list(type_avg_durations.values()), align='center', width=0.6)\n",
    "plt.xticks(range(len(type_avg_durations)), list(type_avg_durations.keys()))\n",
    "plt.setp(plt.gca().get_xticklabels(), rotation=30, horizontalalignment='right')\n",
    "\n",
    "plt.show()"
   ]
  },
  {
   "cell_type": "markdown",
   "metadata": {},
   "source": [
    "# Find total durations"
   ]
  },
  {
   "cell_type": "code",
   "execution_count": 36,
   "metadata": {},
   "outputs": [],
   "source": [
    "total_duration = lambda df, t: df.loc[df['type'] == t]['duration'].sum()\n",
    "type_durations = {name: total_duration(df, name) for name in uniqs}"
   ]
  },
  {
   "cell_type": "code",
   "execution_count": 37,
   "metadata": {},
   "outputs": [
    {
     "data": {
      "image/png": "[encoded data removed]",
      "text/plain": [
       "<Figure size 432x288 with 1 Axes>"
      ]
     },
     "metadata": {
      "needs_background": "light"
     },
     "output_type": "display_data"
    }
   ],
   "source": [
    "plt.bar(range(len(type_durations)), list(type_durations.values()), align='center', width=0.6)\n",
    "plt.xticks(range(len(type_durations)), list(type_durations.keys()))\n",
    "plt.setp(plt.gca().get_xticklabels(), rotation=30, horizontalalignment='right')\n",
    "\n",
    "plt.show()"
   ]
  },
  {
   "cell_type": "markdown",
   "metadata": {},
   "source": [
    "# Analyze sounds"
   ]
  },
  {
   "cell_type": "markdown",
   "metadata": {},
   "source": [
    "### Histogram of file durations"
   ]
  },
  {
   "cell_type": "code",
   "execution_count": 38,
   "metadata": {},
   "outputs": [
    {
     "data": {
      "text/plain": [
       "Text(0.05, 0.5, 'file count')"
      ]
     },
     "execution_count": 38,
     "metadata": {},
     "output_type": "execute_result"
    },
    {
     "data": {
      "image/png": "[encoded data removed]",
      "text/plain": [
       "<Figure size 1080x1080 with 8 Axes>"
      ]
     },
     "metadata": {
      "needs_background": "light"
     },
     "output_type": "display_data"
    }
   ],
   "source": [
    "temp_df = pd.DataFrame()\n",
    "temp_df['duration'] = df['duration'].map(lambda x: round(x))\n",
    "temp_df['type'] = df['type']\n",
    "\n",
    "fig, ax_rows = plt.subplots(nrows=4, ncols=2, figsize=(15,15))\n",
    "\n",
    "axes = [ax for row in ax_rows for ax in row]\n",
    "types = temp_df['type'].unique()\n",
    "\n",
    "for typ, ax in zip(types, axes):\n",
    "    ax.set_title(typ.title(), fontsize='large')\n",
    "    temp_df.loc[temp_df['type'] == typ]['duration'].value_counts().plot(kind='bar', ax=ax)\n",
    "\n",
    "# set title and axis labels\n",
    "plt.suptitle('Durations', y=0.92, ha='center', fontsize='xx-large')\n",
    "fig.text(0.5, 0.05, 'file duration', ha='center', fontsize='xx-large')\n",
    "fig.text(0.05, 0.5, 'file count', va='center', rotation='vertical', fontsize='xx-large')"
   ]
  },
  {
   "cell_type": "markdown",
   "metadata": {},
   "source": [
    "# Process data"
   ]
  },
  {
   "cell_type": "markdown",
   "metadata": {},
   "source": [
    "## Show bitrates"
   ]
  },
  {
   "cell_type": "code",
   "execution_count": 39,
   "metadata": {},
   "outputs": [],
   "source": [
    "from collections import Counter"
   ]
  },
  {
   "cell_type": "code",
   "execution_count": 40,
   "metadata": {},
   "outputs": [],
   "source": [
    "c = Counter()"
   ]
  },
  {
   "cell_type": "code",
   "execution_count": 41,
   "metadata": {},
   "outputs": [],
   "source": [
    "for index, row in df.iterrows():\n",
    "    sample_path = row['file']\n",
    "    filepath = os.path.join(AUDIO_FOLDER, sample_path)\n",
    "    y, sr = librosa.load(filepath)\n",
    "    c[sr] += 1"
   ]
  },
  {
   "cell_type": "code",
   "execution_count": 42,
   "metadata": {},
   "outputs": [
    {
     "data": {
      "text/plain": [
       "Counter({22050: 11307})"
      ]
     },
     "execution_count": 42,
     "metadata": {},
     "output_type": "execute_result"
    }
   ],
   "source": [
    "c"
   ]
  },
  {
   "cell_type": "markdown",
   "metadata": {},
   "source": [
    "**=)**"
   ]
  },
  {
   "cell_type": "markdown",
   "metadata": {},
   "source": [
    "## Bring files to target lentgh"
   ]
  },
  {
   "cell_type": "code",
   "execution_count": 9,
   "metadata": {},
   "outputs": [],
   "source": [
    "TARGET_DURATION = 4  # 4s\n",
    "TARGET_BITRATE = 22050"
   ]
  },
  {
   "cell_type": "code",
   "execution_count": 44,
   "metadata": {},
   "outputs": [
    {
     "data": {
      "text/plain": [
       "88200"
      ]
     },
     "execution_count": 44,
     "metadata": {},
     "output_type": "execute_result"
    }
   ],
   "source": [
    "TARGET_ARRAY_LENGTH = TARGET_DURATION * TARGET_BITRATE\n",
    "TARGET_ARRAY_LENGTH"
   ]
  },
  {
   "cell_type": "code",
   "execution_count": 45,
   "metadata": {},
   "outputs": [],
   "source": [
    "# clear/create folder\n",
    "if os.path.exists(REFINED_FOLDER):\n",
    "    shutil.rmtree(REFINED_FOLDER)\n",
    "os.makedirs(REFINED_FOLDER)    "
   ]
  },
  {
   "cell_type": "code",
   "execution_count": 46,
   "metadata": {},
   "outputs": [],
   "source": [
    "refined_df = pd.DataFrame(columns=df.columns)\n",
    "\n",
    "for _, row in df.iterrows():\n",
    "    sample_path = row['file']\n",
    "    filepath = os.path.join(AUDIO_FOLDER, sample_path)\n",
    "    y, sr = librosa.load(filepath)\n",
    "    \n",
    "    # Trim leading and trailing silence\n",
    "    trimmed_y, _ = librosa.effects.trim(y)\n",
    "    # difference coefficient between real and desired lengths\n",
    "    k = TARGET_ARRAY_LENGTH/len(trimmed_y)\n",
    "    \n",
    "    if k > 1:\n",
    "        # file is shorter that TARGET_DURATION\n",
    "        # so repeat y array to desired length\n",
    "        repeated_y = trimmed_y.repeat(math.ceil(k))[:TARGET_ARRAY_LENGTH]\n",
    "        new_ys = [repeated_y, ]\n",
    "    elif k < 1:\n",
    "        # file is longer that TARGET_DURATION\n",
    "        # split y to arrays of desired length\n",
    "        break_indcies = [i*TARGET_ARRAY_LENGTH for i in range(1, math.ceil(1/k))]\n",
    "        arrays = np.array_split(trimmed_y, break_indcies)\n",
    "        # exclude trailing incomplete array\n",
    "        new_ys = arrays[:-1]\n",
    "    else:\n",
    "        # file has perfect length\n",
    "        new_ys = [trimmed_y, ]\n",
    "            \n",
    "    for i, new_y in enumerate(new_ys):\n",
    "        # write arrays to file and fill dataframe\n",
    "        name, ext = os.path.splitext(row['file'])\n",
    "        new_name = '{name}__{i}{ext}'.format(name=name, i=i, ext=ext)\n",
    "        path = os.path.join(REFINED_FOLDER, new_name)\n",
    "        \n",
    "        librosa.output.write_wav(path, new_y, sr)\n",
    "        \n",
    "        refined_row = {\n",
    "            'file': new_name,\n",
    "            'unk1': row['unk1'],\n",
    "            'unk2': row['unk2'],\n",
    "            'duration': len(new_y)/TARGET_BITRATE,\n",
    "            'type': row['type']\n",
    "        }\n",
    "        \n",
    "        refined_df = pd.concat([refined_df,\n",
    "                                pd.DataFrame([refined_row.values()], columns=df.columns)],\n",
    "                               ignore_index=True)                "
   ]
  },
  {
   "cell_type": "code",
   "execution_count": 47,
   "metadata": {},
   "outputs": [
    {
     "data": {
      "text/html": [
       "<div>\n",
       "<style scoped>\n",
       "    .dataframe tbody tr th:only-of-type {\n",
       "        vertical-align: middle;\n",
       "    }\n",
       "\n",
       "    .dataframe tbody tr th {\n",
       "        vertical-align: top;\n",
       "    }\n",
       "\n",
       "    .dataframe thead th {\n",
       "        text-align: right;\n",
       "    }\n",
       "</style>\n",
       "<table border=\"1\" class=\"dataframe\">\n",
       "  <thead>\n",
       "    <tr style=\"text-align: right;\">\n",
       "      <th></th>\n",
       "      <th>file</th>\n",
       "      <th>unk1</th>\n",
       "      <th>unk2</th>\n",
       "      <th>duration</th>\n",
       "      <th>type</th>\n",
       "    </tr>\n",
       "  </thead>\n",
       "  <tbody>\n",
       "    <tr>\n",
       "      <th>11703</th>\n",
       "      <td>ring_0445__1.wav</td>\n",
       "      <td>office</td>\n",
       "      <td>0</td>\n",
       "      <td>4.0</td>\n",
       "      <td>ring</td>\n",
       "    </tr>\n",
       "    <tr>\n",
       "      <th>2880</th>\n",
       "      <td>bg_0162_time_stretch_3__0.wav</td>\n",
       "      <td>office</td>\n",
       "      <td>0</td>\n",
       "      <td>4.0</td>\n",
       "      <td>bags</td>\n",
       "    </tr>\n",
       "    <tr>\n",
       "      <th>3835</th>\n",
       "      <td>door_0037_time_stretch_8__0.wav</td>\n",
       "      <td>office</td>\n",
       "      <td>0</td>\n",
       "      <td>4.0</td>\n",
       "      <td>door</td>\n",
       "    </tr>\n",
       "    <tr>\n",
       "      <th>5081</th>\n",
       "      <td>d_0053_time_stretch_8__0.wav</td>\n",
       "      <td>office</td>\n",
       "      <td>0</td>\n",
       "      <td>4.0</td>\n",
       "      <td>door</td>\n",
       "    </tr>\n",
       "    <tr>\n",
       "      <th>6732</th>\n",
       "      <td>t_door_0090_time_stretch_11__0.wav</td>\n",
       "      <td>office</td>\n",
       "      <td>0</td>\n",
       "      <td>4.0</td>\n",
       "      <td>door</td>\n",
       "    </tr>\n",
       "    <tr>\n",
       "      <th>13349</th>\n",
       "      <td>speech_0015_slice_4__13.wav</td>\n",
       "      <td>office</td>\n",
       "      <td>0</td>\n",
       "      <td>4.0</td>\n",
       "      <td>speech</td>\n",
       "    </tr>\n",
       "    <tr>\n",
       "      <th>2483</th>\n",
       "      <td>bg_0063_time_stretch_1__0.wav</td>\n",
       "      <td>office</td>\n",
       "      <td>0</td>\n",
       "      <td>4.0</td>\n",
       "      <td>bags</td>\n",
       "    </tr>\n",
       "    <tr>\n",
       "      <th>14628</th>\n",
       "      <td>speech_0038_slice_2__8.wav</td>\n",
       "      <td>office</td>\n",
       "      <td>0</td>\n",
       "      <td>4.0</td>\n",
       "      <td>speech</td>\n",
       "    </tr>\n",
       "    <tr>\n",
       "      <th>7465</th>\n",
       "      <td>k_0020_time_stretch_1__0.wav</td>\n",
       "      <td>office</td>\n",
       "      <td>0</td>\n",
       "      <td>4.0</td>\n",
       "      <td>keyboard</td>\n",
       "    </tr>\n",
       "    <tr>\n",
       "      <th>15031</th>\n",
       "      <td>tool_0233__0.wav</td>\n",
       "      <td>office</td>\n",
       "      <td>0</td>\n",
       "      <td>4.0</td>\n",
       "      <td>tool</td>\n",
       "    </tr>\n",
       "  </tbody>\n",
       "</table>\n",
       "</div>"
      ],
      "text/plain": [
       "                                     file    unk1 unk2  duration      type\n",
       "11703                    ring_0445__1.wav  office    0       4.0      ring\n",
       "2880        bg_0162_time_stretch_3__0.wav  office    0       4.0      bags\n",
       "3835      door_0037_time_stretch_8__0.wav  office    0       4.0      door\n",
       "5081         d_0053_time_stretch_8__0.wav  office    0       4.0      door\n",
       "6732   t_door_0090_time_stretch_11__0.wav  office    0       4.0      door\n",
       "13349         speech_0015_slice_4__13.wav  office    0       4.0    speech\n",
       "2483        bg_0063_time_stretch_1__0.wav  office    0       4.0      bags\n",
       "14628          speech_0038_slice_2__8.wav  office    0       4.0    speech\n",
       "7465         k_0020_time_stretch_1__0.wav  office    0       4.0  keyboard\n",
       "15031                    tool_0233__0.wav  office    0       4.0      tool"
      ]
     },
     "execution_count": 47,
     "metadata": {},
     "output_type": "execute_result"
    }
   ],
   "source": [
    "refined_df.sample(10)"
   ]
  },
  {
   "cell_type": "markdown",
   "metadata": {},
   "source": [
    "### Save dataframe"
   ]
  },
  {
   "cell_type": "code",
   "execution_count": 48,
   "metadata": {},
   "outputs": [],
   "source": [
    "refined_df.to_csv(REFINED_META, sep='\\t', index=False)"
   ]
  },
  {
   "cell_type": "markdown",
   "metadata": {},
   "source": [
    "# Create smth for ml"
   ]
  },
  {
   "cell_type": "markdown",
   "metadata": {},
   "source": [
    "### -1) additional imports"
   ]
  },
  {
   "cell_type": "code",
   "execution_count": null,
   "metadata": {},
   "outputs": [],
   "source": []
  },
  {
   "cell_type": "markdown",
   "metadata": {},
   "source": [
    "### 0) load dataframe"
   ]
  },
  {
   "cell_type": "code",
   "execution_count": 3,
   "metadata": {},
   "outputs": [],
   "source": [
    "refined_df = pd.read_csv(REFINED_META, sep='\\t')"
   ]
  },
  {
   "cell_type": "markdown",
   "metadata": {},
   "source": [
    "### 1) shuffle dataframe and create categorical column for type"
   ]
  },
  {
   "cell_type": "code",
   "execution_count": 4,
   "metadata": {},
   "outputs": [],
   "source": [
    "refined_df = refined_df.sample(frac=1).reset_index(drop=True)"
   ]
  },
  {
   "cell_type": "code",
   "execution_count": 5,
   "metadata": {},
   "outputs": [],
   "source": [
    "refined_df.type = pd.Categorical(refined_df.type)\n",
    "refined_df['code'] = refined_df.type.cat.codes"
   ]
  },
  {
   "cell_type": "markdown",
   "metadata": {},
   "source": [
    "### 2) create train data generator"
   ]
  },
  {
   "cell_type": "code",
   "execution_count": 64,
   "metadata": {},
   "outputs": [],
   "source": [
    "def train_generator():\n",
    "    for row in refined_df.iterrows():\n",
    "        data = row[1]\n",
    "        file = os.path.join(REFINED_FOLDER, data['file'])\n",
    "        print(file)\n",
    "        y, sr = librosa.load(file)\n",
    "        \n",
    "        stfts = tf.contrib.signal.stft(y,\n",
    "                                       frame_length=1024,\n",
    "                                       frame_step=512,\n",
    "                                       fft_length=1024)\n",
    "        \n",
    "        magnitude_spectrograms = tf.abs(stfts)\n",
    "\n",
    "        log_offset = 1e-6\n",
    "        log_magnitude_spectrograms = tf.log(magnitude_spectrograms + log_offset)\n",
    "\n",
    "        num_spectrogram_bins = magnitude_spectrograms.shape[-1].value\n",
    "        lower_edge_hertz = 80.0\n",
    "        upper_edge_hertz = 7600.0\n",
    "        num_mel_bins = 64\n",
    "        \n",
    "        linear_to_mel_weight_matrix = tf.contrib.signal.linear_to_mel_weight_matrix(\n",
    "            num_mel_bins,\n",
    "            num_spectrogram_bins,\n",
    "            sr,\n",
    "            lower_edge_hertz,\n",
    "            upper_edge_hertz)\n",
    "        \n",
    "        mel_spectrograms = tf.tensordot(magnitude_spectrograms, linear_to_mel_weight_matrix, 1)\n",
    "\n",
    "        mel_spectrograms.set_shape(magnitude_spectrograms.shape[:-1].concatenate(linear_to_mel_weight_matrix.shape[-1:])\n",
    "        )\n",
    "\n",
    "        log_mel_spectrograms = tf.log(mel_spectrograms + log_offset)\n",
    "        \n",
    "        num_mfccs = 16\n",
    "        mfccs = tf.contrib.signal.mfccs_from_log_mel_spectrograms(log_mel_spectrograms)[..., :num_mfccs]\n",
    "        \n",
    "#         win_length = math.ceil( len(y)/(sr/1000)/ 25 ) # 25ms\n",
    "#         hop_length = math.ceil( len(y)/(sr/1000)/ 15 ) # 15ms\n",
    "\n",
    "        mfccs = tf.reshape(\n",
    "            mfccs,\n",
    "            (*mfccs.shape, 1),\n",
    "            name=None\n",
    "        )\n",
    "\n",
    "        yield mfccs, data['code']"
   ]
  },
  {
   "cell_type": "markdown",
   "metadata": {},
   "source": [
    "### 3) Create, compile, train model (не работает)"
   ]
  },
  {
   "cell_type": "code",
   "execution_count": 65,
   "metadata": {},
   "outputs": [
    {
     "name": "stdout",
     "output_type": "stream",
     "text": [
      "Epoch 1/10\n",
      "/projects/data/data_v_7_stc/refined/ring_0539__3.wav\n",
      "/projects/data/data_v_7_stc/refined/d_0082_time_stretch_13__0.wav\n"
     ]
    },
    {
     "ename": "TypeError",
     "evalue": "object of type 'Tensor' has no len()",
     "output_type": "error",
     "traceback": [
      "\u001b[0;31m---------------------------------------------------------------------------\u001b[0m",
      "\u001b[0;31mTypeError\u001b[0m                                 Traceback (most recent call last)",
      "\u001b[0;32m<ipython-input-65-c96d0eba2e70>\u001b[0m in \u001b[0;36m<module>\u001b[0;34m\u001b[0m\n\u001b[1;32m     21\u001b[0m \u001b[0mmodel\u001b[0m\u001b[0;34m.\u001b[0m\u001b[0mcompile\u001b[0m\u001b[0;34m(\u001b[0m\u001b[0mloss\u001b[0m\u001b[0;34m=\u001b[0m\u001b[0;34m'categorical_crossentropy'\u001b[0m\u001b[0;34m,\u001b[0m \u001b[0moptimizer\u001b[0m\u001b[0;34m=\u001b[0m\u001b[0;34m'adam'\u001b[0m\u001b[0;34m)\u001b[0m\u001b[0;34m\u001b[0m\u001b[0;34m\u001b[0m\u001b[0m\n\u001b[1;32m     22\u001b[0m \u001b[0;34m\u001b[0m\u001b[0m\n\u001b[0;32m---> 23\u001b[0;31m \u001b[0mmodel\u001b[0m\u001b[0;34m.\u001b[0m\u001b[0mfit_generator\u001b[0m\u001b[0;34m(\u001b[0m\u001b[0mtrain_generator\u001b[0m\u001b[0;34m(\u001b[0m\u001b[0;34m)\u001b[0m\u001b[0;34m,\u001b[0m \u001b[0msteps_per_epoch\u001b[0m\u001b[0;34m=\u001b[0m\u001b[0;36m10\u001b[0m\u001b[0;34m,\u001b[0m \u001b[0mepochs\u001b[0m\u001b[0;34m=\u001b[0m\u001b[0;36m10\u001b[0m\u001b[0;34m,\u001b[0m \u001b[0mverbose\u001b[0m\u001b[0;34m=\u001b[0m\u001b[0;36m1\u001b[0m\u001b[0;34m)\u001b[0m\u001b[0;34m\u001b[0m\u001b[0;34m\u001b[0m\u001b[0m\n\u001b[0m",
      "\u001b[0;32m/usr/local/lib/python3.6/dist-packages/keras/legacy/interfaces.py\u001b[0m in \u001b[0;36mwrapper\u001b[0;34m(*args, **kwargs)\u001b[0m\n\u001b[1;32m     89\u001b[0m                 warnings.warn('Update your `' + object_name + '` call to the ' +\n\u001b[1;32m     90\u001b[0m                               'Keras 2 API: ' + signature, stacklevel=2)\n\u001b[0;32m---> 91\u001b[0;31m             \u001b[0;32mreturn\u001b[0m \u001b[0mfunc\u001b[0m\u001b[0;34m(\u001b[0m\u001b[0;34m*\u001b[0m\u001b[0margs\u001b[0m\u001b[0;34m,\u001b[0m \u001b[0;34m**\u001b[0m\u001b[0mkwargs\u001b[0m\u001b[0;34m)\u001b[0m\u001b[0;34m\u001b[0m\u001b[0;34m\u001b[0m\u001b[0m\n\u001b[0m\u001b[1;32m     92\u001b[0m         \u001b[0mwrapper\u001b[0m\u001b[0;34m.\u001b[0m\u001b[0m_original_function\u001b[0m \u001b[0;34m=\u001b[0m \u001b[0mfunc\u001b[0m\u001b[0;34m\u001b[0m\u001b[0;34m\u001b[0m\u001b[0m\n\u001b[1;32m     93\u001b[0m         \u001b[0;32mreturn\u001b[0m \u001b[0mwrapper\u001b[0m\u001b[0;34m\u001b[0m\u001b[0;34m\u001b[0m\u001b[0m\n",
      "\u001b[0;32m/usr/local/lib/python3.6/dist-packages/keras/engine/training.py\u001b[0m in \u001b[0;36mfit_generator\u001b[0;34m(self, generator, steps_per_epoch, epochs, verbose, callbacks, validation_data, validation_steps, class_weight, max_queue_size, workers, use_multiprocessing, shuffle, initial_epoch)\u001b[0m\n\u001b[1;32m   1416\u001b[0m             \u001b[0muse_multiprocessing\u001b[0m\u001b[0;34m=\u001b[0m\u001b[0muse_multiprocessing\u001b[0m\u001b[0;34m,\u001b[0m\u001b[0;34m\u001b[0m\u001b[0;34m\u001b[0m\u001b[0m\n\u001b[1;32m   1417\u001b[0m             \u001b[0mshuffle\u001b[0m\u001b[0;34m=\u001b[0m\u001b[0mshuffle\u001b[0m\u001b[0;34m,\u001b[0m\u001b[0;34m\u001b[0m\u001b[0;34m\u001b[0m\u001b[0m\n\u001b[0;32m-> 1418\u001b[0;31m             initial_epoch=initial_epoch)\n\u001b[0m\u001b[1;32m   1419\u001b[0m \u001b[0;34m\u001b[0m\u001b[0m\n\u001b[1;32m   1420\u001b[0m     \u001b[0;34m@\u001b[0m\u001b[0minterfaces\u001b[0m\u001b[0;34m.\u001b[0m\u001b[0mlegacy_generator_methods_support\u001b[0m\u001b[0;34m\u001b[0m\u001b[0;34m\u001b[0m\u001b[0m\n",
      "\u001b[0;32m/usr/local/lib/python3.6/dist-packages/keras/engine/training_generator.py\u001b[0m in \u001b[0;36mfit_generator\u001b[0;34m(model, generator, steps_per_epoch, epochs, verbose, callbacks, validation_data, validation_steps, class_weight, max_queue_size, workers, use_multiprocessing, shuffle, initial_epoch)\u001b[0m\n\u001b[1;32m    199\u001b[0m                 \u001b[0;31m# build batch logs\u001b[0m\u001b[0;34m\u001b[0m\u001b[0;34m\u001b[0m\u001b[0;34m\u001b[0m\u001b[0m\n\u001b[1;32m    200\u001b[0m                 \u001b[0mbatch_logs\u001b[0m \u001b[0;34m=\u001b[0m \u001b[0;34m{\u001b[0m\u001b[0;34m}\u001b[0m\u001b[0;34m\u001b[0m\u001b[0;34m\u001b[0m\u001b[0m\n\u001b[0;32m--> 201\u001b[0;31m                 \u001b[0;32mif\u001b[0m \u001b[0mx\u001b[0m \u001b[0;32mis\u001b[0m \u001b[0;32mNone\u001b[0m \u001b[0;32mor\u001b[0m \u001b[0mlen\u001b[0m\u001b[0;34m(\u001b[0m\u001b[0mx\u001b[0m\u001b[0;34m)\u001b[0m \u001b[0;34m==\u001b[0m \u001b[0;36m0\u001b[0m\u001b[0;34m:\u001b[0m\u001b[0;34m\u001b[0m\u001b[0;34m\u001b[0m\u001b[0m\n\u001b[0m\u001b[1;32m    202\u001b[0m                     \u001b[0;31m# Handle data tensors support when no input given\u001b[0m\u001b[0;34m\u001b[0m\u001b[0;34m\u001b[0m\u001b[0;34m\u001b[0m\u001b[0m\n\u001b[1;32m    203\u001b[0m                     \u001b[0;31m# step-size = 1 for data tensors\u001b[0m\u001b[0;34m\u001b[0m\u001b[0;34m\u001b[0m\u001b[0;34m\u001b[0m\u001b[0m\n",
      "\u001b[0;31mTypeError\u001b[0m: object of type 'Tensor' has no len()"
     ]
    }
   ],
   "source": [
    "from keras.models import Sequential\n",
    "from keras.layers import Dense, Activation, Flatten, Conv2D\n",
    "\n",
    "# конфиг:\n",
    "# - 2 слоя Conv2D\n",
    "# - слой Flatten\n",
    "# - 2 слоя Dense\n",
    "# - активационная функция softmax\n",
    "\n",
    "input_shape = (16, 10, 1)\n",
    "\n",
    "model = Sequential([\n",
    "    Conv2D(16, kernel_size=(2, 2), input_shape=input_shape),\n",
    "    Conv2D(32, kernel_size=(3, 3)),\n",
    "    Flatten(),\n",
    "    Dense(16),\n",
    "    Dense(16),\n",
    "    Activation('softmax'),\n",
    "])\n",
    "\n",
    "model.compile(loss='categorical_crossentropy', optimizer='adam')\n",
    "\n",
    "model.fit_generator(train_generator(), steps_per_epoch=10, epochs=10, verbose=1)"
   ]
  },
  {
   "cell_type": "code",
   "execution_count": 66,
   "metadata": {},
   "outputs": [],
   "source": [
    "tg = train_generator()"
   ]
  },
  {
   "cell_type": "code",
   "execution_count": 67,
   "metadata": {},
   "outputs": [
    {
     "name": "stdout",
     "output_type": "stream",
     "text": [
      "/projects/data/data_v_7_stc/refined/ring_0539__3.wav\n"
     ]
    },
    {
     "data": {
      "text/plain": [
       "<tf.Tensor 'Reshape_3:0' shape=(171, 16, 1) dtype=float32>"
      ]
     },
     "execution_count": 67,
     "metadata": {},
     "output_type": "execute_result"
    }
   ],
   "source": [
    "item = next(tg)\n",
    "item[0]"
   ]
  },
  {
   "cell_type": "code",
   "execution_count": 40,
   "metadata": {},
   "outputs": [
    {
     "data": {
      "text/plain": [
       "(Dimension(171), Dimension(16), 1)"
      ]
     },
     "execution_count": 40,
     "metadata": {},
     "output_type": "execute_result"
    }
   ],
   "source": [
    "(*(item[0].shape), 1)"
   ]
  },
  {
   "cell_type": "code",
   "execution_count": null,
   "metadata": {},
   "outputs": [],
   "source": []
  }
 ],
 "metadata": {
  "kernelspec": {
   "display_name": "Python 3",
   "language": "python",
   "name": "python3"
  },
  "language_info": {
   "codemirror_mode": {
    "name": "ipython",
    "version": 3
   },
   "file_extension": ".py",
   "mimetype": "text/x-python",
   "name": "python",
   "nbconvert_exporter": "python",
   "pygments_lexer": "ipython3",
   "version": "3.6.7"
  }
 },
 "nbformat": 4,
 "nbformat_minor": 2
}
